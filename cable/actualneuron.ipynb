{
 "cells": [
  {
   "cell_type": "code",
   "execution_count": 1,
   "metadata": {},
   "outputs": [],
   "source": [
    "import sys\n",
    "plist = ['/Applications/NEURON/lib/python']\n",
    "for pd in plist:\n",
    "    if pd in sys.path:\n",
    "        sys.path.remove(pd)\n",
    "\n",
    "from neuron import h, gui, rxd\n",
    "from neuron.units import mV,ms\n",
    "import matplotlib.pyplot as plt\n",
    "import plotly\n",
    "from neuron import h\n",
    "import numpy as np\n",
    "import math"
   ]
  },
  {
   "cell_type": "code",
   "execution_count": 2,
   "metadata": {},
   "outputs": [
    {
     "data": {
      "text/plain": [
       "0.0"
      ]
     },
     "execution_count": 2,
     "metadata": {},
     "output_type": "execute_result"
    }
   ],
   "source": [
    "# load morphology file\n",
    "h.load_file(\"stdlib.hoc\")\n",
    "h.load_file(\"import3d.hoc\")\n",
    "h.load_file(\"stdrun.hoc\")\n",
    "\n",
    "cell = h.Import3d_SWC_read()\n",
    "cell.input(\"./file-swc/c91662.CNG.swc\")\n",
    "h.Import3d_GUI(cell, 0)\n",
    "i3d = h.Import3d_GUI(cell, 0)\n",
    "i3d.instantiate(None)"
   ]
  },
  {
   "cell_type": "code",
   "execution_count": 3,
   "metadata": {},
   "outputs": [],
   "source": [
    "def calseg(L):\n",
    "    return 1 + 2 * int(L / 20)\n",
    "\n",
    "for sec in h.allsec():\n",
    "    sec.nseg = calseg(sec.L)\n",
    "\n",
    "tt = 100 * ms # runtime\n",
    "approxend = 1-1e-3"
   ]
  },
  {
   "cell_type": "code",
   "execution_count": 4,
   "metadata": {},
   "outputs": [
    {
     "name": "stdout",
     "output_type": "stream",
     "text": [
      "58\n",
      "soma children: [axon[0], dend[31], dend[0], apic[129], apic[0]]\n",
      "complete path is: [dend[0], dend[1], dend[2], dend[3], dend[7], dend[8], dend[9], dend[10]]\n"
     ]
    }
   ],
   "source": [
    "from importlib.resources import path\n",
    "\n",
    "soma = h.soma[0] # define soma\n",
    "\n",
    "thedendlst = h.dend # define dendrite list in the morphology\n",
    "theapiclst = h.apic # define apical dendrite list in the morphology\n",
    "\n",
    "wholedendlst = []\n",
    "for aa in thedendlst:\n",
    "    wholedendlst.append(aa)\n",
    "for ll in theapiclst:\n",
    "    wholedendlst.append(ll)\n",
    "\n",
    "dendlst = h.dend\n",
    "\n",
    "print(len(dendlst))\n",
    "\n",
    "# == start experiment == # \n",
    "\n",
    "# add HH channel into the soma\n",
    "addhh = 1\n",
    "if addhh == 1:\n",
    "    soma.insert('hh')\n",
    "    for seg in soma:\n",
    "        seg.hh.gnabar = 0.12 # Sodium conductance, S/cm2\n",
    "        seg.hh.gkbar = 0.036 # Potassium conductance, S/cm2\n",
    "        seg.hh.gl = 0.0003 # Leak conductance, S/cm2\n",
    "        seg.hh.el = -54.3 # Reversal potential, mV\n",
    "\n",
    "def my_initial(node):\n",
    "    # some distance function\n",
    "    return 2 * h.tanh(h.distance(soma(0.5),node) / 1000.0)\n",
    "\n",
    "# add 1 spine\n",
    "def add_spine(cp,cloc):\n",
    "    shead = h.Section(name='spine head')\n",
    "    shead.diam = 0.75\n",
    "    shead.L = 0.5\n",
    "    shead.Ra = 100 # Ohm * cm\n",
    "    shead.nseg = calseg(shead.L)\n",
    "    shead.insert('pas')\n",
    "\n",
    "    sneck = h.Section(name='spine neck')\n",
    "    sneck.diam = 0.2\n",
    "    sneck.L = 0.5\n",
    "    sneck.Ra = 100 # Ohm * cm\n",
    "    sneck.nseg = calseg(sneck.L)\n",
    "    sneck.insert('pas')\n",
    "\n",
    "    shead.connect(sneck,1)\n",
    "    sneck.connect(cp,cloc)\n",
    "    return [shead,sneck]\n",
    "\n",
    "pltdend = 10 # specific dendrite of measurement\n",
    "\n",
    "Rm = 23000 # Membrane resistence Ohm cm^2\n",
    "\n",
    "# add passive channel\n",
    "for dend in dendlst:\n",
    "    dend.insert('pas')\n",
    "    for seg in dend:    \n",
    "        seg.pas.g = 1/Rm # Passive conductance, S/cm2\n",
    "        seg.pas.e = -64.85 # Leak reversal potential, mV\n",
    "\n",
    "print(f\"soma children: {soma.children()}\")\n",
    "\n",
    "# return the to-leaf path of the dendrite (starting from soma)\n",
    "def findtodendpath(dendlst,pltdend):\n",
    "    targetdend = dendlst[pltdend]\n",
    "    pathset = [targetdend]\n",
    "    endcnt = 0\n",
    "    while endcnt == 0:\n",
    "        findcnt = 0\n",
    "        for dend in dendlst:\n",
    "            if targetdend in dend.children():\n",
    "                # find parent\n",
    "                pathset.append(dend)\n",
    "                targetdend = dend\n",
    "                findcnt = 1\n",
    "                break\n",
    "        if findcnt == 0:\n",
    "            endcnt = 1\n",
    "    # reverse the order of list\n",
    "    return pathset[::-1]\n",
    "    \n",
    "comppath = findtodendpath(dendlst,pltdend)\n",
    "print(f'complete path is: {comppath}')\n"
   ]
  },
  {
   "cell_type": "code",
   "execution_count": 5,
   "metadata": {},
   "outputs": [
    {
     "name": "stdout",
     "output_type": "stream",
     "text": [
      "0.5635706726995088\n",
      "0.13880508014509474\n",
      "0.5769530337962868\n",
      "0.9352650710146956\n",
      "1.8519398150927429\n",
      "2.1961346421480528\n",
      "10.214838736275714\n",
      "16.84648069815294\n"
     ]
    },
    {
     "data": {
      "text/plain": [
       "0.0"
      ]
     },
     "execution_count": 5,
     "metadata": {},
     "output_type": "execute_result"
    }
   ],
   "source": [
    "# location of measurement (0 < x < 1)\n",
    "insertloc = approxend\n",
    "\n",
    "# add spine on soma and at approximal end of one dendrite\n",
    "[s_sp_head,s_sp_neck] = add_spine(soma,0.5)\n",
    "[dend_sp_head,dend_sp_neck] = add_spine(dendlst[pltdend],insertloc)\n",
    "\n",
    "stim = h.IClamp(dend_sp_head(0.0))\n",
    "stim.delay = 0\n",
    "stim.dur = 1e9 # ms \n",
    "stim.amp = 0.1 # nA\n",
    "\n",
    "stim_current = h.Vector().record(stim._ref_i) # record the injection current\n",
    "t = h.Vector().record(h._ref_t) # record time\n",
    "\n",
    "h.v_init = -66 * mV # setting the rest potential\n",
    "\n",
    "# record calcium dynamics on dend\n",
    "dend_record = []\n",
    "for dend in dendlst:\n",
    "    dend_record.append(h.Vector().record(dend(1.0)._ref_v))\n",
    "\n",
    "soma_v = h.Vector().record(soma(0.5)._ref_v) # soma dynamics\n",
    "\n",
    "cyt = rxd.Region(h.allsec(), name=\"cyt\", nrn_region=\"i\")\n",
    "ca = rxd.Species(cyt, name=\"ca\", charge=2, initial=my_initial)\n",
    "\n",
    "# calculate electrotonic distance\n",
    "ttelecdist = 0\n",
    "for secdend in comppath:\n",
    "    # characteristic length of membrane cylinder, when extracellular resistance is neglected (cm)\n",
    "    clambda = math.sqrt(((Rm/secdend.Ra)*(secdend.diam/4)))\n",
    "    # input resistance at origin of membrane cylinder of semi-infinite length (ohms)\n",
    "    R_infty = (2/math.pi)*math.sqrt((Rm*secdend.Ra))*(secdend.diam)**(-3/2)\n",
    "\n",
    "    rr = 1\n",
    "    if secdend == dendlst[pltdend]:\n",
    "        rr = insertloc\n",
    "\n",
    "    xx = rr * secdend.L # length of certain dendrite (cm)\n",
    "    xd = xx/clambda # electrotonic distance (dimensionless)\n",
    "    print(xd)\n",
    "    ttelecdist += xd # increment\n",
    "\n",
    "# dist to soma\n",
    "disttosoma = h.distance(soma(0.5),dendlst[pltdend](insertloc))\n",
    "\n",
    "\n",
    "h.tstop = tt\n",
    "h.run()"
   ]
  },
  {
   "cell_type": "code",
   "execution_count": 6,
   "metadata": {},
   "outputs": [],
   "source": [
    "# # Plot the morphology of the dendritic tree\n",
    "# ps = h.PlotShape(False)\n",
    "# ps.variable(ca[cyt])\n",
    "# ps.scale(0, 2)\n",
    "# ps.plot(plotly).show(renderer=\"notebook_connected\")"
   ]
  },
  {
   "cell_type": "code",
   "execution_count": 7,
   "metadata": {},
   "outputs": [
    {
     "data": {
      "image/png": "[encoded data removed]",
      "text/plain": [
       "<Figure size 576x576 with 1 Axes>"
      ]
     },
     "metadata": {
      "needs_background": "light"
     },
     "output_type": "display_data"
    }
   ],
   "source": [
    "decayfactor = (dend_record[pltdend][-1]-h.v_init)/(soma_v[-1]-h.v_init)\n",
    "if decayfactor > 1:\n",
    "    decayfactor = 1 / decayfactor\n",
    "\n",
    "# plot\n",
    "plt.figure(figsize=(8,8))\n",
    "plt.plot(t,dend_record[pltdend],label=f'distal end of dend: dist to soma = {round(disttosoma,2)} μm')\n",
    "plt.plot(t,soma_v,label='soma')\n",
    "plt.legend(fontsize = 14, frameon=False, loc=7)\n",
    "plt.title(f\"decay factor tau={round(decayfactor,4)}\")\n",
    "plt.xlabel('Time (ms)')\n",
    "plt.ylabel('Voltage (mV)')\n",
    "plt.show()\n",
    "\n"
   ]
  }
 ],
 "metadata": {
  "kernelspec": {
   "display_name": "Python 3.7.6 64-bit",
   "language": "python",
   "name": "python3"
  },
  "language_info": {
   "codemirror_mode": {
    "name": "ipython",
    "version": 3
   },
   "file_extension": ".py",
   "mimetype": "text/x-python",
   "name": "python",
   "nbconvert_exporter": "python",
   "pygments_lexer": "ipython3",
   "version": "3.7.6"
  },
  "orig_nbformat": 4,
  "vscode": {
   "interpreter": {
    "hash": "aee8b7b246df8f9039afb4144a1f6fd8d2ca17a180786b69acc140d282b71a49"
   }
  }
 },
 "nbformat": 4,
 "nbformat_minor": 2
}
