{
 "cells": [
  {
   "cell_type": "code",
   "execution_count": 25,
   "metadata": {},
   "outputs": [],
   "source": [
    "import sys\n",
    "plist = ['/Applications/NEURON/lib/python']\n",
    "for pd in plist:\n",
    "    if pd in sys.path:\n",
    "        sys.path.remove(pd)"
   ]
  },
  {
   "cell_type": "code",
   "execution_count": 26,
   "metadata": {},
   "outputs": [],
   "source": [
    "from __future__ import division\n",
    "from neuron import h, gui, rxd \n",
    "from neuron.units import ms, mV, µm\n",
    "import matplotlib.pyplot as plt\n",
    "import numpy as np\n",
    "import math\n",
    "\n",
    "h.load_file(\"stdrun.hoc\")\n",
    "h.celsius = 35 # set the reaction temperature\n",
    "\n",
    "tt = 100 * ms # runtime\n",
    "\n",
    "def levelcheck(x):  \n",
    "    return 1 if x == 0 else int(math.log(x)/math.log(2)+1)"
   ]
  },
  {
   "cell_type": "code",
   "execution_count": 27,
   "metadata": {},
   "outputs": [],
   "source": [
    "# Model \n",
    "soma = h.Section(name=\"soma\")\n",
    "soma.L = soma.diam = 12.6157 # µm\n",
    "soma.insert('pas')\n",
    "\n",
    "nsegnum = 1000\n",
    "\n",
    "# define cytosol\n",
    "cyt = rxd.Region(soma.wholetree(), name=\"cyt\", nrn_region=\"i\")\n",
    "# define sodium\n",
    "na = rxd.Species(cyt, name=\"na\", charge=1)\n",
    "\n",
    "# by default, both end of dendrite are sealed end\n",
    "num_of_dend = 15\n",
    "dendlst = [h.Section(name='dend[%d]' % i) for i in range(num_of_dend)]\n",
    "lambdalst = []\n",
    "rinftylst = []\n",
    "\n",
    "Rm = 23000 # Membrane resistence Ohm cm^2\n",
    "# parameter for the primary branch of the dendrite\n",
    "prim_L = 500\n",
    "prim_D = 2\n",
    "\n",
    "for sec in h.allsec():\n",
    "    sec.Ra = 100 # Axial resistance Ohm * cm\n",
    "    sec.cm = 1 # Membrane capacitance micro Farads / cm^2\n",
    "\n",
    "for i in range(len(dendlst)):\n",
    "    dend = dendlst[i]\n",
    "    dend.L = prim_L / 2**(levelcheck(i+1)-1) # µm\n",
    "    # 3/2 rule\n",
    "    dend.diam = prim_D * 0.63**(levelcheck(i+1)-1) # µm\n",
    "    dend.nseg = nsegnum\n",
    "\n",
    "    # characteristic length of membrane cylinder\n",
    "    cl_lambda = ((Rm/dend.Ra)*(dend.diam/4))**(1/2)\n",
    "    lambdalst.append(cl_lambda)\n",
    "\n",
    "    # input resistance at origin of membrane cylinder of semi-infinite length\n",
    "    rinfty = (2/math.pi)*(Rm/dend.Ra)**(1/2)*(dend.diam)**(-3/2)\n",
    "    rinftylst.append(rinfty)\n",
    "\n",
    "    # insert passive current in the dendrite \n",
    "    dend.insert('pas')\n",
    "    for seg in dend:    \n",
    "        seg.pas.g = 1/Rm # Passive conductance, S/cm2\n",
    "        seg.pas.e = -64.85 # Leak reversal potential, mV\n",
    "\n",
    "    # connection\n",
    "    # by default, all dendrites have sealed end, meaning that dV/dt \n",
    "    # (flux passing through the end) = 0 \n",
    "    if i + 1 == 1:\n",
    "        dend.connect(soma,1.0) \n",
    "    else:\n",
    "        if (i + 1) % 2 == 0:\n",
    "            dend.connect(dendlst[int((i+1)/2-1)])\n",
    "        else:\n",
    "            dend.connect(dendlst[int(i/2-1)])\n",
    "            \n",
    "dll = [i.L for i in dendlst] # dendrite length set\n",
    "# dll = [dll[i]/lambdalst[i] for i in range(len(dendlst))] # electronic distance for each branch of dendrite\n",
    "\n",
    "# construct total dend branch in the tree\n",
    "def con_dendll(dendnum,L):\n",
    "    ll = levelcheck(dendnum)\n",
    "    dendll = [0]\n",
    "    kk = 1\n",
    "    while kk <= ll:\n",
    "        dendll.append(L/2**(kk-1)+dendll[kk-1])\n",
    "        kk += 1\n",
    "    return dendll[1:]\n",
    "\n",
    "dendll = con_dendll(num_of_dend,prim_L)"
   ]
  },
  {
   "cell_type": "code",
   "execution_count": 28,
   "metadata": {},
   "outputs": [],
   "source": [
    "###\n",
    "# set up experiment \n",
    "###\n",
    "inject_ind = 0\n",
    "\n",
    "distaldend = dendlst[-1] # the leaf branch of dendrite\n",
    "maindend = dendlst[0] # main dendrite connect to the soma\n",
    "secdend = dendlst[1]\n",
    "thidend = dendlst[3]\n",
    "fourthdend = dendlst[7]\n",
    "\n",
    "# use approximal end of dendrite\n",
    "approxend = 0.999\n",
    "approxstart = 0.001\n",
    "\n",
    "# add 1 spine\n",
    "# connect to the model\n",
    "def add_spine(cp,cloc):\n",
    "    shead = h.Section(name='spine head')\n",
    "    shead.diam = 0.75\n",
    "    shead.L = 0.5\n",
    "    shead.Ra = 100 # Ohm * cm\n",
    "    shead.nseg = nsegnum\n",
    "    shead.insert('pas')\n",
    "\n",
    "    sneck = h.Section(name='spine neck')\n",
    "    sneck.diam = 0.2\n",
    "    sneck.L = 0.5\n",
    "    sneck.Ra = 100 # Ohm * cm\n",
    "    sneck.nseg = nsegnum\n",
    "    sneck.insert('pas')\n",
    "\n",
    "    shead.connect(sneck,1)\n",
    "    sneck.connect(cp,cloc)\n",
    "    return [shead,sneck]\n",
    "\n",
    "\n",
    "# define injection current\n",
    "if inject_ind == 0:\n",
    "    stim = h.IClamp(distaldend(approxend))\n",
    "    stim.delay = 0\n",
    "    stim.dur = 1e9 # ms \n",
    "    stim.amp = 0.1 # nA\n",
    "\n",
    "    # injected current\n",
    "    stim_current = h.Vector().record(stim._ref_i) # record the injection current\n",
    "    # record spine dynamics\n",
    "    # spine_record = []\n",
    "    # spine_storage = []\n",
    "    # name_loc = []\n",
    "\n",
    "    # conndend = [maindend,secdend,thidend,fourthdend]\n",
    "    # loclst = [0.25,0.5,0.75,1.00]\n",
    "    # for ii in range(len(conndend)):\n",
    "    #     for jj in range(len(loclst)):\n",
    "    #         segm = add_spine(conndend[ii],loclst[jj])\n",
    "    #         spine_storage.append(segm)\n",
    "    #         spine_record.append(h.Vector().record(spine_storage[-1][0](0.5)._ref_v))\n",
    "    #         name_loc.append([ii,jj])\n",
    "\n",
    "elif inject_ind == 1:\n",
    "    cp = maindend\n",
    "    cloc = 0.01\n",
    "\n",
    "    [shead,sneck] = add_spine(cp,cloc)\n",
    "    \n",
    "    # define an excitatory synapse to receive event (these will trigger the cell to spike)\n",
    "    addsyp = soma\n",
    "    sloc = 0.5\n",
    "\n",
    "    syn_ = h.ExpSyn(addsyp(sloc))\n",
    "    syn_.tau = 1 * ms\n",
    "    syn_.e = 0 * mV\n",
    "    # define spike event\n",
    "    stim = h.NetStim()\n",
    "    stim.interval = 1e9 * ms\n",
    "    stim.number = 1\n",
    "    stim.start = 0 * ms\n",
    "    # send those event to synpse\n",
    "    nc = h.NetCon(stim,syn_)\n",
    "    nc.weight[0] = 0.01\n",
    "\n",
    "    # synapse current\n",
    "    stim_current = h.Vector().record(syn_._ref_i)\n",
    "\n",
    "    head_v = h.Vector().record(shead(0.5)._ref_v)\n",
    "    neck_v = h.Vector().record(sneck(0.5)._ref_v)\n",
    "    cp_v = h.Vector().record(cp(cloc)._ref_v)\n",
    "\n",
    "soma_v = h.Vector().record(soma(0.5)._ref_v)\n",
    "\n",
    "if inject_ind == 1:\n",
    "    na_vec = h.Vector().record(soma(0.5)._ref_nai)\n",
    "    ina = h.Vector().record(soma(0.5)._ref_ina)\n",
    "\n",
    "# record the voltage at end of each dendrite\n",
    "dend_vs = []\n",
    "for dend in dendlst:\n",
    "    dend_vs.append(h.Vector().record(dend(1.0)._ref_v))\n",
    "\n",
    "# record the voltage dynamic at different locations of the primary dendrite\n",
    "maindend_vs = []\n",
    "locspace = np.linspace(0.0,1.0,num=5)\n",
    "for theloc in locspace:\n",
    "    maindend_vs.append(h.Vector().record(maindend(theloc)._ref_v))\n",
    "\n",
    "t = h.Vector().record(h._ref_t)\n",
    "\n",
    "h.v_init = -66 * mV # setting the rest potential\n",
    "\n",
    "# display the structure\n",
    "# h.topology()\n",
    "# s = h.Shape()"
   ]
  },
  {
   "cell_type": "code",
   "execution_count": 29,
   "metadata": {},
   "outputs": [
    {
     "data": {
      "text/plain": [
       "0.0"
      ]
     },
     "execution_count": 29,
     "metadata": {},
     "output_type": "execute_result"
    }
   ],
   "source": [
    "###\n",
    "# Add active channels to the soma and run simulation\n",
    "###\n",
    "\n",
    "# here we use Hodgkin Huxley Model\n",
    "soma.insert('hh')\n",
    "\n",
    "h.tstop = tt\n",
    "\n",
    "if inject_ind == 0:\n",
    "    stim.dur = 1e9\n",
    "    stim_current = h.Vector().record(stim._ref_i)\n",
    "\n",
    "# default parameter of HH\n",
    "for seg in soma:\n",
    "    seg.hh.gnabar = 0.12 # Sodium conductance, S/cm2\n",
    "    seg.hh.gkbar = 0.036 # Potassium conductance, S/cm2\n",
    "    seg.hh.gl = 0.0003 # Leak conductance, S/cm2\n",
    "    seg.hh.el = -54.3 # Reversal potential, mV\n",
    "    \n",
    "h.run()    "
   ]
  },
  {
   "cell_type": "code",
   "execution_count": 30,
   "metadata": {},
   "outputs": [
    {
     "data": {
      "image/png": "[encoded data removed]",
      "text/plain": [
       "<Figure size 576x576 with 1 Axes>"
      ]
     },
     "metadata": {
      "needs_background": "light"
     },
     "output_type": "display_data"
    },
    {
     "data": {
      "image/png": "[encoded data removed]",
      "text/plain": [
       "<Figure size 432x288 with 1 Axes>"
      ]
     },
     "metadata": {
      "needs_background": "light"
     },
     "output_type": "display_data"
    },
    {
     "name": "stderr",
     "output_type": "stream",
     "text": [
      "No artists with labels found to put in legend.  Note that artists whose label start with an underscore are ignored when legend() is called with no argument.\n"
     ]
    },
    {
     "data": {
      "image/png": "[encoded data removed]",
      "text/plain": [
       "<Figure size 864x864 with 1 Axes>"
      ]
     },
     "metadata": {
      "needs_background": "light"
     },
     "output_type": "display_data"
    },
    {
     "name": "stdout",
     "output_type": "stream",
     "text": [
      "0.04437839239693871\n"
     ]
    }
   ],
   "source": [
    "plt.figure(figsize=(8,8))\n",
    "plt.plot(t,stim_current)\n",
    "plt.xlabel('Time (ms)')\n",
    "plt.ylabel('Current (nA)')\n",
    "plt.title('Stim Current over time')\n",
    "\n",
    "if inject_ind == 1: \n",
    "    plt.figure(figsize=(8,8))\n",
    "    plt.plot(t,head_v,label=f'spine head,max time: {round(t[np.argmax(head_v)],2)}ms')\n",
    "    plt.plot(t,neck_v,label=f'spine neck,max time: {round(t[np.argmax(neck_v)],2)}ms')\n",
    "    plt.plot(t,cp_v,label=f'connection at {cloc} of {cp.name()}, max time: {round(t[np.argmax(cp_v)],2)}ms')\n",
    "\n",
    "    plt.legend(fontsize = 14, frameon=False)\n",
    "    plt.xlabel('Time (ms)', fontsize = 15)\n",
    "    plt.ylabel('Voltage (mV)', fontsize = 15)   \n",
    "\n",
    "plt.figure()\n",
    "plt.plot(t,soma_v,label='soma')\n",
    "plt.plot(t,dend_vs[-1],label='leaf dendrite')\n",
    "plt.show()\n",
    "\n",
    "# print((max(head_v-h.v_init))/(max(soma_v)-h.v_init))\n",
    "\n",
    "plt.figure(figsize=(12,12))\n",
    "vvlst = [] # store the maximum value of the membrane potential list\n",
    "# plt.plot(t,soma_v,color='r',label='soma(0.5)')\n",
    "vvlst.append(max(soma_v)-h.v_init) # add soma (vvlst[0])\n",
    "# for i,v in list(enumerate(spine_record)):\n",
    "#     place = name_loc[i]\n",
    "#     [thedend,theloc] = [place[0],place[1]]\n",
    "#     if thedend == 0:\n",
    "#         dts = loclst[theloc] * prim_L\n",
    "#     else:\n",
    "#         dts = dendll[thedend-1] + loclst[theloc] * (dendll[thedend]-dendll[thedend-1])\n",
    "#     tlabel = f\"level {thedend+1},dist to soma={dts}\"\n",
    "\n",
    "#     plt.plot(t,v,label=tlabel)\n",
    "    # plt.scatter(dts,(max(v)-h.v_init)/(max(dend_vs[-8])-h.v_init))\n",
    "    \n",
    "vvlst = np.array(vvlst)\n",
    "\n",
    "plt.xlabel('Distance (µm)', fontsize = 15)\n",
    "plt.ylabel('Decay factor', fontsize = 15)\n",
    "plt.legend(fontsize = 14, frameon=False,loc=7)\n",
    "plt.title('Membrane potential (decay factor) dynamic at different locations')\n",
    "# plt.axis([None,None,0,1])\n",
    "plt.show()\n",
    "\n",
    "a1 = soma_v[-1]-h.v_init\n",
    "a2 = dend_vs[-1][-1]-h.v_init\n",
    "rr = a1/a2\n",
    "if rr < 1:\n",
    "    print(rr)\n",
    "else:\n",
    "    print(1/rr)"
   ]
  },
  {
   "cell_type": "code",
   "execution_count": 31,
   "metadata": {},
   "outputs": [
    {
     "name": "stdout",
     "output_type": "stream",
     "text": [
      "500.0\n",
      "22.533488618866276\n"
     ]
    },
    {
     "data": {
      "image/png": "[encoded data removed]",
      "text/plain": [
       "<Figure size 576x576 with 1 Axes>"
      ]
     },
     "metadata": {
      "needs_background": "light"
     },
     "output_type": "display_data"
    }
   ],
   "source": [
    "# similar to Rall & Rinzel 1973 Fig 4\n",
    "# 4-level dendritic structure\n",
    "\n",
    "if num_of_dend == 15 and inject_ind == 0:\n",
    "    loc = [0,\n",
    "        dll[0]+dll[2],\n",
    "        dll[0]+dll[2]+dll[6],\n",
    "        dll[0]+dll[2]+dll[6]+dll[14],\n",
    "        dll[0]+dll[2]+dll[6]+dll[13],\n",
    "        dll[0]+dll[2]+dll[6]+dll[12],\n",
    "        dll[0]+dll[1]+dll[4]+dll[9]\n",
    "    ]\n",
    "    print(dll[0])\n",
    "    voltage = [soma_v[-1]-h.v_init,\n",
    "        dend_vs[2][-1]-h.v_init,\n",
    "        dend_vs[6][-1]-h.v_init,\n",
    "        dend_vs[14][-1]-h.v_init,\n",
    "        dend_vs[13][-1]-h.v_init,\n",
    "        dend_vs[12][-1]-h.v_init,\n",
    "        dend_vs[9][-1]-h.v_init\n",
    "    ]\n",
    "    label = ['soma','GP','P','BI','BS','BC-1','BC-2']\n",
    "    \n",
    "    plt.figure(figsize=(8,8))\n",
    "    plt.scatter(loc,voltage)\n",
    "    for i,txt in enumerate(label):\n",
    "        plt.annotate(txt,(loc[i],voltage[i]))\n",
    "    plt.xlabel('Electronic distance to soma (µm)')\n",
    "    plt.ylabel('Steady state value - resting potential (mV)')\n",
    "    plt.title('Branching diagram')\n",
    "\n",
    "print(max(voltage)/min(voltage))"
   ]
  }
 ],
 "metadata": {
  "kernelspec": {
   "display_name": "Python 3.7.6 64-bit",
   "language": "python",
   "name": "python3"
  },
  "language_info": {
   "codemirror_mode": {
    "name": "ipython",
    "version": 3
   },
   "file_extension": ".py",
   "mimetype": "text/x-python",
   "name": "python",
   "nbconvert_exporter": "python",
   "pygments_lexer": "ipython3",
   "version": "3.7.6"
  },
  "orig_nbformat": 4,
  "vscode": {
   "interpreter": {
    "hash": "aee8b7b246df8f9039afb4144a1f6fd8d2ca17a180786b69acc140d282b71a49"
   }
  }
 },
 "nbformat": 4,
 "nbformat_minor": 2
}
