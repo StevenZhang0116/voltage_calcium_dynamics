{
 "cells": [
  {
   "cell_type": "code",
   "execution_count": 9,
   "metadata": {},
   "outputs": [],
   "source": [
    "import sys\n",
    "plist = ['/Applications/NEURON/lib/python']\n",
    "for pd in plist:\n",
    "    if pd in sys.path:\n",
    "        sys.path.remove(pd)"
   ]
  },
  {
   "cell_type": "code",
   "execution_count": 10,
   "metadata": {},
   "outputs": [
    {
     "data": {
      "text/plain": [
       "Text(0.5, 0, 'time (ms)')"
      ]
     },
     "execution_count": 10,
     "metadata": {},
     "output_type": "execute_result"
    },
    {
     "data": {
      "image/png": "[encoded data removed]",
      "text/plain": [
       "<Figure size 432x288 with 1 Axes>"
      ]
     },
     "metadata": {
      "needs_background": "light"
     },
     "output_type": "display_data"
    }
   ],
   "source": [
    "# Example of IntFire1 cell\n",
    "# Equivalent example of entire integrate and fire cell\n",
    "from neuron import h\n",
    "from neuron.units import ms,mV\n",
    "import matplotlib.pyplot as plt\n",
    "\n",
    "h.load_file('stdrun.hoc')\n",
    "\n",
    "my_cell = h.IntFire1()\n",
    "my_cell.tau = 4 * ms\n",
    "my_cell.refrac = 10 * ms\n",
    "\n",
    "# stimulus\n",
    "e_stims = h.NetStim()\n",
    "e_stims.noise = True\n",
    "e_stims.interval = 3 * ms\n",
    "e_stims.start = 0 * ms\n",
    "e_stims.number = 1e10\n",
    "nc = h.NetCon(e_stims,my_cell)\n",
    "nc.weight[0] = 0.5\n",
    "nc.delay = 0 * ms\n",
    "\n",
    "stim_times = h.Vector()\n",
    "output_times = h.Vector()\n",
    "stim_times_nc = h.NetCon(e_stims,None)\n",
    "stim_times_nc.record(stim_times)\n",
    "output_times_nc = h.NetCon(my_cell,None)\n",
    "output_times_nc.record(output_times)\n",
    "\n",
    "h.finitialize(-65 * mV)\n",
    "h.continuerun(100 * ms)\n",
    "\n",
    "fig,ax = plt.subplots()\n",
    "\n",
    "for c, (color, data) in enumerate([(\"red\", stim_times), (\"black\", output_times)]):\n",
    "    ax.vlines(data, c - 0.4, c + 0.4, colors=color)\n",
    "\n",
    "ax.set_yticks([0, 1])\n",
    "ax.set_yticklabels(['excitatory\\nstimuli','output\\nevents'])\n",
    "\n",
    "ax.set_xlim([0, h.t])\n",
    "ax.set_xlabel('time (ms)')"
   ]
  }
 ],
 "metadata": {
  "kernelspec": {
   "display_name": "Python 3.7.6 64-bit",
   "language": "python",
   "name": "python3"
  },
  "language_info": {
   "codemirror_mode": {
    "name": "ipython",
    "version": 3
   },
   "file_extension": ".py",
   "mimetype": "text/x-python",
   "name": "python",
   "nbconvert_exporter": "python",
   "pygments_lexer": "ipython3",
   "version": "3.7.6"
  },
  "orig_nbformat": 4,
  "vscode": {
   "interpreter": {
    "hash": "aee8b7b246df8f9039afb4144a1f6fd8d2ca17a180786b69acc140d282b71a49"
   }
  }
 },
 "nbformat": 4,
 "nbformat_minor": 2
}
