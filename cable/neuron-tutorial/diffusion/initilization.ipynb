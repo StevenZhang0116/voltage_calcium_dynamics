{
 "cells": [
  {
   "cell_type": "code",
   "execution_count": 24,
   "metadata": {},
   "outputs": [],
   "source": [
    "import sys\n",
    "plist = ['/Applications/NEURON/lib/python']\n",
    "for pd in plist:\n",
    "    if pd in sys.path:\n",
    "        sys.path.remove(pd)"
   ]
  },
  {
   "cell_type": "code",
   "execution_count": 25,
   "metadata": {},
   "outputs": [
    {
     "data": {
      "text/plain": [
       "1.0"
      ]
     },
     "execution_count": 25,
     "metadata": {},
     "output_type": "execute_result"
    }
   ],
   "source": [
    "# Option 1: NEURON and NMODL defaults\n",
    "from neuron import h, rxd \n",
    "\n",
    "soma = h.Section(name='soma')\n",
    "cyt = rxd.Region(h.allsec(), name='cyt')\n",
    "ca = rxd.Species(cyt, name='ca', charge=2)\n",
    "na = rxd.Species(cyt, name='na', charge=1)\n",
    "k = rxd.Species(cyt, name='k', charge=1)\n",
    "unknown = rxd.Species(cyt, name='unknown', charge=-1)\n",
    "\n",
    "h.finitialize(-65)"
   ]
  },
  {
   "cell_type": "code",
   "execution_count": 27,
   "metadata": {},
   "outputs": [
    {
     "name": "stdout",
     "output_type": "stream",
     "text": [
      "0.42\n"
     ]
    }
   ],
   "source": [
    "from neuron import h, crxd as rxd\n",
    "\n",
    "rxd.options.enable.extracellular = True\n",
    "ecs = rxd.Extracellular(-100, -100, -100,\n",
    "                        100, 100, 100,\n",
    "                        dx=20, volume_fraction=0.2, tortuosity=1.6)\n",
    "\n",
    "ca = rxd.Species(ecs, name='ca', charge=2)\n",
    "h('cao0_ca_ion = 0.42')\n",
    "h.finitialize(-65)\n",
    "print(ca.nodes[0].concentration)"
   ]
  },
  {
   "cell_type": "code",
   "execution_count": 28,
   "metadata": {},
   "outputs": [
    {
     "name": "stdout",
     "output_type": "stream",
     "text": [
      "0.47\n"
     ]
    }
   ],
   "source": [
    "# Option 2: Uniform initial concentration\n",
    "\n",
    "soma = h.Section(name='soma')\n",
    "cyt = rxd.Region([soma], name='cyt')\n",
    "m = rxd.State(cyt, initial=0.47)\n",
    "\n",
    "h.finitialize(-65)\n",
    "print(m.nodes[0].value)"
   ]
  },
  {
   "cell_type": "code",
   "execution_count": 29,
   "metadata": {},
   "outputs": [
    {
     "ename": "IndexError",
     "evalue": "index 3444 is out of bounds for axis 0 with size 3257",
     "output_type": "error",
     "traceback": [
      "\u001b[0;31m---------------------------------------------------------------------------\u001b[0m",
      "\u001b[0;31mIndexError\u001b[0m                                Traceback (most recent call last)",
      "\u001b[0;32m_ctypes/callbacks.c\u001b[0m in \u001b[0;36m'calling callback function'\u001b[0;34m()\u001b[0m\n",
      "\u001b[0;32m/Library/Frameworks/Python.framework/Versions/3.7/lib/python3.7/site-packages/neuron/rxd/rxd.py\u001b[0m in \u001b[0;36m_setup_matrices\u001b[0;34m()\u001b[0m\n\u001b[1;32m    702\u001b[0m                     \u001b[0ms\u001b[0m \u001b[0;34m=\u001b[0m \u001b[0msr\u001b[0m\u001b[0;34m(\u001b[0m\u001b[0;34m)\u001b[0m\u001b[0;34m\u001b[0m\u001b[0;34m\u001b[0m\u001b[0m\n\u001b[1;32m    703\u001b[0m                     \u001b[0;32mif\u001b[0m \u001b[0ms\u001b[0m \u001b[0;32mis\u001b[0m \u001b[0;32mnot\u001b[0m \u001b[0;32mNone\u001b[0m\u001b[0;34m:\u001b[0m\u001b[0;34m\u001b[0m\u001b[0;34m\u001b[0m\u001b[0m\n\u001b[0;32m--> 704\u001b[0;31m                         \u001b[0ms\u001b[0m\u001b[0;34m.\u001b[0m\u001b[0m_setup_diffusion_matrix\u001b[0m\u001b[0;34m(\u001b[0m\u001b[0mdiffusion_matrix\u001b[0m\u001b[0;34m)\u001b[0m\u001b[0;34m\u001b[0m\u001b[0;34m\u001b[0m\u001b[0m\n\u001b[0m\u001b[1;32m    705\u001b[0m                         \u001b[0ms\u001b[0m\u001b[0;34m.\u001b[0m\u001b[0m_setup_c_matrix\u001b[0m\u001b[0;34m(\u001b[0m\u001b[0mc_diagonal\u001b[0m\u001b[0;34m)\u001b[0m\u001b[0;34m\u001b[0m\u001b[0;34m\u001b[0m\u001b[0m\n\u001b[1;32m    706\u001b[0m                         \u001b[0;31m# print '_diffusion_matrix.shape = %r, n = %r, species._has_3d = %r' % (_diffusion_matrix.shape, n, species._has_3d)\u001b[0m\u001b[0;34m\u001b[0m\u001b[0;34m\u001b[0m\u001b[0;34m\u001b[0m\u001b[0m\n",
      "\u001b[0;32m/Library/Frameworks/Python.framework/Versions/3.7/lib/python3.7/site-packages/neuron/rxd/species.py\u001b[0m in \u001b[0;36m_setup_diffusion_matrix\u001b[0;34m(self, g)\u001b[0m\n\u001b[1;32m   2148\u001b[0m     \u001b[0;32mdef\u001b[0m \u001b[0m_setup_diffusion_matrix\u001b[0m\u001b[0;34m(\u001b[0m\u001b[0mself\u001b[0m\u001b[0;34m,\u001b[0m \u001b[0mg\u001b[0m\u001b[0;34m)\u001b[0m\u001b[0;34m:\u001b[0m\u001b[0;34m\u001b[0m\u001b[0;34m\u001b[0m\u001b[0m\n\u001b[1;32m   2149\u001b[0m         \u001b[0;32mfor\u001b[0m \u001b[0ms\u001b[0m \u001b[0;32min\u001b[0m \u001b[0mself\u001b[0m\u001b[0;34m.\u001b[0m\u001b[0m_secs\u001b[0m\u001b[0;34m:\u001b[0m\u001b[0;34m\u001b[0m\u001b[0;34m\u001b[0m\u001b[0m\n\u001b[0;32m-> 2150\u001b[0;31m             \u001b[0ms\u001b[0m\u001b[0;34m.\u001b[0m\u001b[0m_setup_diffusion_matrix\u001b[0m\u001b[0;34m(\u001b[0m\u001b[0mg\u001b[0m\u001b[0;34m)\u001b[0m\u001b[0;34m\u001b[0m\u001b[0;34m\u001b[0m\u001b[0m\n\u001b[0m\u001b[1;32m   2151\u001b[0m \u001b[0;34m\u001b[0m\u001b[0m\n\u001b[1;32m   2152\u001b[0m     \u001b[0;32mdef\u001b[0m \u001b[0m_setup_c_matrix\u001b[0m\u001b[0;34m(\u001b[0m\u001b[0mself\u001b[0m\u001b[0;34m,\u001b[0m \u001b[0mc\u001b[0m\u001b[0;34m)\u001b[0m\u001b[0;34m:\u001b[0m\u001b[0;34m\u001b[0m\u001b[0;34m\u001b[0m\u001b[0m\n",
      "\u001b[0;32m/Library/Frameworks/Python.framework/Versions/3.7/lib/python3.7/site-packages/neuron/rxd/section1d.py\u001b[0m in \u001b[0;36m_setup_diffusion_matrix\u001b[0;34m(self, mat)\u001b[0m\n\u001b[1;32m    372\u001b[0m             \u001b[0;32mif\u001b[0m \u001b[0mi\u001b[0m \u001b[0;34m==\u001b[0m \u001b[0;36m0\u001b[0m\u001b[0;34m:\u001b[0m\u001b[0;34m\u001b[0m\u001b[0;34m\u001b[0m\u001b[0m\n\u001b[1;32m    373\u001b[0m                 \u001b[0;31m# for 0 volume nodes, must conserve MASS not concentration\u001b[0m\u001b[0;34m\u001b[0m\u001b[0;34m\u001b[0m\u001b[0;34m\u001b[0m\u001b[0m\n\u001b[0;32m--> 374\u001b[0;31m                 \u001b[0mscale\u001b[0m \u001b[0;34m=\u001b[0m \u001b[0m_volumes\u001b[0m\u001b[0;34m[\u001b[0m\u001b[0mio\u001b[0m\u001b[0;34m]\u001b[0m \u001b[0;34m/\u001b[0m \u001b[0m_volumes\u001b[0m\u001b[0;34m[\u001b[0m\u001b[0mil\u001b[0m\u001b[0;34m]\u001b[0m \u001b[0;32mif\u001b[0m \u001b[0m_volumes\u001b[0m\u001b[0;34m[\u001b[0m\u001b[0mil\u001b[0m\u001b[0;34m]\u001b[0m \u001b[0;32melse\u001b[0m \u001b[0m_volumes\u001b[0m\u001b[0;34m[\u001b[0m\u001b[0mio\u001b[0m\u001b[0;34m]\u001b[0m\u001b[0;34m\u001b[0m\u001b[0;34m\u001b[0m\u001b[0m\n\u001b[0m\u001b[1;32m    375\u001b[0m                 \u001b[0madd_values\u001b[0m\u001b[0;34m(\u001b[0m\u001b[0mmat\u001b[0m\u001b[0;34m,\u001b[0m \u001b[0mil\u001b[0m\u001b[0;34m,\u001b[0m \u001b[0;34m[\u001b[0m\u001b[0mil\u001b[0m\u001b[0;34m,\u001b[0m \u001b[0mio\u001b[0m\u001b[0;34m]\u001b[0m\u001b[0;34m,\u001b[0m \u001b[0;34m[\u001b[0m\u001b[0mrate_l\u001b[0m \u001b[0;34m*\u001b[0m \u001b[0mscale\u001b[0m\u001b[0;34m,\u001b[0m \u001b[0;34m-\u001b[0m\u001b[0mrate_l\u001b[0m \u001b[0;34m*\u001b[0m \u001b[0mscale\u001b[0m\u001b[0;34m]\u001b[0m\u001b[0;34m)\u001b[0m\u001b[0;34m\u001b[0m\u001b[0;34m\u001b[0m\u001b[0m\n\u001b[1;32m    376\u001b[0m             \u001b[0;32mif\u001b[0m \u001b[0mi\u001b[0m \u001b[0;34m==\u001b[0m \u001b[0mself\u001b[0m\u001b[0;34m.\u001b[0m\u001b[0mnseg\u001b[0m \u001b[0;34m-\u001b[0m \u001b[0;36m1\u001b[0m\u001b[0;34m:\u001b[0m\u001b[0;34m\u001b[0m\u001b[0;34m\u001b[0m\u001b[0m\n",
      "\u001b[0;31mIndexError\u001b[0m: index 3444 is out of bounds for axis 0 with size 3257"
     ]
    },
    {
     "data": {
      "text/plain": [
       "1.0"
      ]
     },
     "execution_count": 29,
     "metadata": {},
     "output_type": "execute_result"
    }
   ],
   "source": [
    "# Option 3: Initializing to a function of position\n",
    "\n",
    "from neuron import h, gui, rxd \n",
    "h.load_file('stdrun.hoc')\n",
    "h.load_file('import3d.hoc')\n",
    "\n",
    "def my_initial(node):\n",
    "    h.distance(0, h.soma[0](0.5))\n",
    "    dist = h.distance(node.segment)\n",
    "    return 2 * h.tanh(dist / 1000)\n",
    "\n",
    "cell = h.Import3d_SWC_read()\n",
    "cell.input('c91662.CNG.swc')\n",
    "h.Import3d_GUI(cell,0)\n",
    "i3d = h.Import3d_GUI(cell,0)\n",
    "i3d.instantiate(None)\n",
    "\n",
    "for sec in h.allsec():\n",
    "    sec.nseg = 1 + 2 * int(sec.L / 20)\n",
    "\n",
    "cyt = rxd.Region(h.allsec(), name='cyt', nrn_region='i')\n",
    "ca = rxd.Species(cyt, name='ca', charge=2, initial=my_initial)\n",
    "h.finitialize(-65)\n"
   ]
  },
  {
   "cell_type": "code",
   "execution_count": 30,
   "metadata": {},
   "outputs": [
    {
     "data": {
      "text/plain": [
       "1.0"
      ]
     },
     "execution_count": 30,
     "metadata": {},
     "output_type": "execute_result"
    }
   ],
   "source": [
    "def my_initial2(node):\n",
    "    return 1 + h.tanh(node.x3d / 100.)\n",
    "\n",
    "alpha = rxd.Parameter(cyt, name='alpha', initial=my_initial2)\n",
    "\n",
    "h.finitialize(-65)"
   ]
  }
 ],
 "metadata": {
  "kernelspec": {
   "display_name": "Python 3.7.6 64-bit",
   "language": "python",
   "name": "python3"
  },
  "language_info": {
   "codemirror_mode": {
    "name": "ipython",
    "version": 3
   },
   "file_extension": ".py",
   "mimetype": "text/x-python",
   "name": "python",
   "nbconvert_exporter": "python",
   "pygments_lexer": "ipython3",
   "version": "3.7.6"
  },
  "orig_nbformat": 4,
  "vscode": {
   "interpreter": {
    "hash": "aee8b7b246df8f9039afb4144a1f6fd8d2ca17a180786b69acc140d282b71a49"
   }
  }
 },
 "nbformat": 4,
 "nbformat_minor": 2
}
