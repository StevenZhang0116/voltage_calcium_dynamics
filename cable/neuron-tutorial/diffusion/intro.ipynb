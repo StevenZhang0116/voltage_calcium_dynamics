{
 "cells": [
  {
   "cell_type": "code",
   "execution_count": 2,
   "metadata": {},
   "outputs": [],
   "source": [
    "import sys\n",
    "plist = ['/Applications/NEURON/lib/python']\n",
    "for pd in plist:\n",
    "    if pd in sys.path:\n",
    "        sys.path.remove(pd)"
   ]
  },
  {
   "cell_type": "code",
   "execution_count": 3,
   "metadata": {},
   "outputs": [
    {
     "name": "stdout",
     "output_type": "stream",
     "text": [
      "     0.025    0.955556    0.977778   0.0222222\n",
      "      0.05    0.915565    0.957783   0.0422175\n",
      "     0.075    0.879356    0.939678   0.0603222\n",
      "       0.1    0.846386    0.923193   0.0768069\n",
      "     0.125    0.816217    0.908108   0.0918917\n",
      "==========\n",
      "      0.15    0.788484    0.894242    0.105758\n",
      "     0.175    0.762889    0.881445    0.118555\n",
      "       0.2    0.739178    0.869589    0.130411\n",
      "     0.225     0.71714     0.85857     0.14143\n",
      "      0.25    0.696591    0.848296    0.151704\n"
     ]
    }
   ],
   "source": [
    "# Simple Reaction with Abrupt Change in Reaction Rate\n",
    "\n",
    "from neuron import h,rxd \n",
    "\n",
    "def advance_a_bit():\n",
    "    for i in range(5):\n",
    "        h.fadvance()\n",
    "        print(data.format(t=h.t, cl=cl.nodes[0].concentration,\n",
    "                          ca=ca.nodes[0].concentration,\n",
    "                          cacl2=cacl2.nodes[0].concentration))\n",
    "\n",
    "dend = h.Section(name='dend')\n",
    "cyt = rxd.Region(h.allsec(), nrn_region='i')\n",
    "\n",
    "cl = rxd.Species(cyt, initial=1, name='cl', charge = -1)\n",
    "ca = rxd.Species(cyt, initial=1, name='ca', charge = 2)\n",
    "cacl2 = rxd.Species(cyt, initial=0, name='cacl2')\n",
    "\n",
    "reaction = rxd.Reaction(2 * cl + ca, cacl2, 1)\n",
    "\n",
    "h.finitialize(-65)\n",
    "\n",
    "heading = '{t:>10s}  {cl:>10s}  {ca:>10s}  {cacl2:>10s}'\n",
    "data = '{t:10g}  {cl:10g}  {ca:10g}  {cacl2:10g}'\n",
    "\n",
    "advance_a_bit()\n",
    "\n",
    "reaction.f_rate *- 5\n",
    "\n",
    "print('==========')\n",
    "\n",
    "advance_a_bit()\n"
   ]
  },
  {
   "cell_type": "code",
   "execution_count": 5,
   "metadata": {},
   "outputs": [
    {
     "data": {
      "image/png": "[encoded data removed]",
      "text/plain": [
       "<Figure size 432x288 with 1 Axes>"
      ]
     },
     "metadata": {
      "needs_background": "light"
     },
     "output_type": "display_data"
    }
   ],
   "source": [
    "# Scalar Bistable Wave\n",
    "\n",
    "from neuron import h, rxd\n",
    "import numpy as np\n",
    "import matplotlib.pyplot as plt\n",
    "\n",
    "def my_initial(node):\n",
    "    return 1 if node.x < 0.2 else 0\n",
    "\n",
    "def plot_it(color='k'):\n",
    "    y = u.nodes.concentration\n",
    "    x = u.nodes.x\n",
    "    x = dend.L * np.array(x)\n",
    "    plt.plot(x, y, color)\n",
    "\n",
    "h.load_file('stdrun.hoc')\n",
    "dend = h.Section(name='dend')\n",
    "dend.nseg = 101\n",
    "\n",
    "where = rxd.Region([dend])\n",
    "u = rxd.Species(where, d=1, initial=my_initial)\n",
    "bistable_reaction = rxd.Rate(u, -u * (1-u) * (0.3-u))\n",
    "\n",
    "h.finitialize(-65)\n",
    "\n",
    "plot_it('r')\n",
    "\n",
    "for i in range(1, 5):\n",
    "    h.continuerun(i * 25)\n",
    "    plot_it()\n",
    "\n",
    "plt.xlabel('t (ms)')\n",
    "plt.ylabel('[u] (mM)')\n",
    "plt.show()\n",
    "\n",
    "\n"
   ]
  }
 ],
 "metadata": {
  "kernelspec": {
   "display_name": "Python 3.7.6 64-bit",
   "language": "python",
   "name": "python3"
  },
  "language_info": {
   "codemirror_mode": {
    "name": "ipython",
    "version": 3
   },
   "file_extension": ".py",
   "mimetype": "text/x-python",
   "name": "python",
   "nbconvert_exporter": "python",
   "pygments_lexer": "ipython3",
   "version": "3.7.6"
  },
  "orig_nbformat": 4,
  "vscode": {
   "interpreter": {
    "hash": "aee8b7b246df8f9039afb4144a1f6fd8d2ca17a180786b69acc140d282b71a49"
   }
  }
 },
 "nbformat": 4,
 "nbformat_minor": 2
}
