{
 "cells": [
  {
   "cell_type": "code",
   "execution_count": 17,
   "metadata": {},
   "outputs": [],
   "source": [
    "import sys\n",
    "plist = ['/Applications/NEURON/lib/python']\n",
    "for pd in plist:\n",
    "    if pd in sys.path:\n",
    "        sys.path.remove(pd)"
   ]
  },
  {
   "cell_type": "code",
   "execution_count": 18,
   "metadata": {},
   "outputs": [
    {
     "data": {
      "text/plain": [
       "<matplotlib.pyplot._IonContext at 0x7f8c2044a410>"
      ]
     },
     "execution_count": 18,
     "metadata": {},
     "output_type": "execute_result"
    }
   ],
   "source": [
    "from __future__ import division\n",
    "from neuron import h\n",
    "from neuron import gui\n",
    "import matplotlib.pyplot as plt\n",
    "import numpy as np\n",
    "plt.ion()"
   ]
  },
  {
   "cell_type": "markdown",
   "metadata": {},
   "source": [
    "# Build ball-and-stick model"
   ]
  },
  {
   "cell_type": "code",
   "execution_count": 19,
   "metadata": {},
   "outputs": [
    {
     "name": "stderr",
     "output_type": "stream",
     "text": [
      "dlopen failed - \n",
      "dlopen(/Users/stevenzhang/Dropbox/dave/code/cable/neuron-tutorial/arm64/K_Pst.o, 0x0002): tried: '/Users/stevenzhang/Dropbox/dave/code/cable/neuron-tutorial/arm64/K_Pst.o' (unloadable mach-o file type 1 '/Users/stevenzhang/Dropbox/dave/code/cable/neuron-tutorial/arm64/K_Pst.o')\n"
     ]
    },
    {
     "data": {
      "text/plain": [
       "0.0"
      ]
     },
     "execution_count": 19,
     "metadata": {},
     "output_type": "execute_result"
    }
   ],
   "source": [
    "v_rest = -60 # the baseline voltage.\n",
    "\n",
    "soma = h.Section(name=\"soma\")\n",
    "soma.L = 25\n",
    "soma.diam = 25\n",
    "soma.Ra = 100\n",
    "soma.insert('pas')\n",
    "soma.g_pas = 1/20000\n",
    "soma.e_pas = v_rest # the reversal of the passive channels\n",
    "\n",
    "soma.insert('hh') \n",
    "\n",
    "dend = h.Section(name=\"dend\")\n",
    "dend.L = 700  \n",
    "dend.diam = 1    \n",
    "dend.Ra = 100 \n",
    "dend.insert('pas')\n",
    "dend.e_pas = v_rest\n",
    "dend.g_pas = 1/20000\n",
    "\n",
    "dend.connect(soma,1,0) # connect the end of the soma to the start of the dendrite \n",
    "h(\"forall { nseg = int((L/(0.1*lambda_f(100))+0.9)/2)*2 + 1  }\")\n",
    "h.define_shape()\n",
    "\n",
    "h.nrn_load_dll('arm64/K_Pst.o')"
   ]
  },
  {
   "cell_type": "markdown",
   "metadata": {},
   "source": [
    "# Set up synapses"
   ]
  },
  {
   "cell_type": "code",
   "execution_count": 20,
   "metadata": {},
   "outputs": [
    {
     "ename": "AttributeError",
     "evalue": "'hoc.HocObject' object has no attribute 'ProbAMPANMDA2_RATIO'",
     "output_type": "error",
     "traceback": [
      "\u001b[0;31m---------------------------------------------------------------------------\u001b[0m",
      "\u001b[0;31mAttributeError\u001b[0m                            Traceback (most recent call last)",
      "\u001b[0;32m/var/folders/t5/qn101lps1w5dtwf3ctbwm2q00000gn/T/ipykernel_26397/4282104122.py\u001b[0m in \u001b[0;36m<module>\u001b[0;34m\u001b[0m\n\u001b[1;32m      4\u001b[0m \u001b[0mhotspot_NMDA_netstims\u001b[0m \u001b[0;34m=\u001b[0m \u001b[0;34m[\u001b[0m\u001b[0;34m]\u001b[0m\u001b[0;34m\u001b[0m\u001b[0;34m\u001b[0m\u001b[0m\n\u001b[1;32m      5\u001b[0m \u001b[0;32mfor\u001b[0m \u001b[0mj\u001b[0m \u001b[0;32min\u001b[0m \u001b[0mrange\u001b[0m\u001b[0;34m(\u001b[0m\u001b[0;36m20\u001b[0m\u001b[0;34m)\u001b[0m\u001b[0;34m:\u001b[0m\u001b[0;34m\u001b[0m\u001b[0;34m\u001b[0m\u001b[0m\n\u001b[0;32m----> 6\u001b[0;31m     \u001b[0mhotspot_NMDA_synapses\u001b[0m\u001b[0;34m.\u001b[0m\u001b[0mappend\u001b[0m\u001b[0;34m(\u001b[0m\u001b[0mh\u001b[0m\u001b[0;34m.\u001b[0m\u001b[0mProbAMPANMDA2_RATIO\u001b[0m\u001b[0;34m(\u001b[0m\u001b[0mdend\u001b[0m\u001b[0;34m(\u001b[0m\u001b[0;36m0.6\u001b[0m\u001b[0;34m)\u001b[0m\u001b[0;34m)\u001b[0m\u001b[0;34m)\u001b[0m\u001b[0;34m\u001b[0m\u001b[0;34m\u001b[0m\u001b[0m\n\u001b[0m\u001b[1;32m      7\u001b[0m     \u001b[0mhotspot_NMDA_netstims\u001b[0m\u001b[0;34m.\u001b[0m\u001b[0mappend\u001b[0m\u001b[0;34m(\u001b[0m\u001b[0mh\u001b[0m\u001b[0;34m.\u001b[0m\u001b[0mNetStim\u001b[0m\u001b[0;34m(\u001b[0m\u001b[0;34m)\u001b[0m\u001b[0;34m)\u001b[0m\u001b[0;34m\u001b[0m\u001b[0;34m\u001b[0m\u001b[0m\n\u001b[1;32m      8\u001b[0m     \u001b[0mhotspot_NMDA_netcons\u001b[0m\u001b[0;34m.\u001b[0m\u001b[0mappend\u001b[0m\u001b[0;34m(\u001b[0m\u001b[0mh\u001b[0m\u001b[0;34m.\u001b[0m\u001b[0mNetCon\u001b[0m\u001b[0;34m(\u001b[0m\u001b[0mhotspot_NMDA_netstims\u001b[0m\u001b[0;34m[\u001b[0m\u001b[0mj\u001b[0m\u001b[0;34m]\u001b[0m\u001b[0;34m,\u001b[0m \u001b[0mhotspot_NMDA_synapses\u001b[0m\u001b[0;34m[\u001b[0m\u001b[0mj\u001b[0m\u001b[0;34m]\u001b[0m\u001b[0;34m)\u001b[0m\u001b[0;34m)\u001b[0m\u001b[0;34m\u001b[0m\u001b[0;34m\u001b[0m\u001b[0m\n",
      "\u001b[0;31mAttributeError\u001b[0m: 'hoc.HocObject' object has no attribute 'ProbAMPANMDA2_RATIO'"
     ]
    }
   ],
   "source": [
    "# create 20 AMPA_NMDA synapses\n",
    "hotspot_NMDA_synapses = []\n",
    "hotspot_NMDA_netcons  = []\n",
    "hotspot_NMDA_netstims = []\n",
    "for j in range(20):\n",
    "    hotspot_NMDA_synapses.append(h.ProbAMPANMDA2_RATIO(dend(0.6)))\n",
    "    hotspot_NMDA_netstims.append(h.NetStim())\n",
    "    hotspot_NMDA_netcons.append(h.NetCon(hotspot_NMDA_netstims[j], hotspot_NMDA_synapses[j]))\n",
    "\n",
    "    \n",
    "\n"
   ]
  }
 ],
 "metadata": {
  "kernelspec": {
   "display_name": "Python 3.7.6 64-bit",
   "language": "python",
   "name": "python3"
  },
  "language_info": {
   "codemirror_mode": {
    "name": "ipython",
    "version": 3
   },
   "file_extension": ".py",
   "mimetype": "text/x-python",
   "name": "python",
   "nbconvert_exporter": "python",
   "pygments_lexer": "ipython3",
   "version": "3.7.6"
  },
  "orig_nbformat": 4,
  "vscode": {
   "interpreter": {
    "hash": "aee8b7b246df8f9039afb4144a1f6fd8d2ca17a180786b69acc140d282b71a49"
   }
  }
 },
 "nbformat": 4,
 "nbformat_minor": 2
}
